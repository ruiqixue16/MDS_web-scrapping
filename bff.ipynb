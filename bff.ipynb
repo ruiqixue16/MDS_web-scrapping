{
 "cells": [
  {
   "attachments": {},
   "cell_type": "markdown",
   "metadata": {},
   "source": [
    "### **Black Founder Fund**"
   ]
  },
  {
   "attachments": {},
   "cell_type": "markdown",
   "metadata": {},
   "source": [
    "![](image_2.png)"
   ]
  },
  {
   "attachments": {},
   "cell_type": "markdown",
   "metadata": {},
   "source": [
    "#### **Goal:** To retrieve the name of all recipients, the information of the receipients, and the name of the winning companies.\n",
    "#### **Problem:** there are 177 recipients from 2022"
   ]
  },
  {
   "attachments": {},
   "cell_type": "markdown",
   "metadata": {},
   "source": [
    "![](image_1.png)"
   ]
  },
  {
   "attachments": {},
   "cell_type": "markdown",
   "metadata": {},
   "source": [
    "#### Find all the boxes containing information about each recipient"
   ]
  },
  {
   "attachments": {},
   "cell_type": "markdown",
   "metadata": {},
   "source": [
    "![](image_3.png)"
   ]
  },
  {
   "attachments": {},
   "cell_type": "markdown",
   "metadata": {},
   "source": [
    "#### Extract the name of recipient"
   ]
  },
  {
   "attachments": {},
   "cell_type": "markdown",
   "metadata": {},
   "source": [
    "![](image_4.png)"
   ]
  },
  {
   "attachments": {},
   "cell_type": "markdown",
   "metadata": {},
   "source": [
    "#### Extract the personal information of recipient"
   ]
  },
  {
   "attachments": {},
   "cell_type": "markdown",
   "metadata": {},
   "source": [
    "![](image_5.png)"
   ]
  },
  {
   "cell_type": "code",
   "execution_count": 58,
   "metadata": {},
   "outputs": [],
   "source": [
    "import requests\n",
    "from bs4 import BeautifulSoup\n",
    "import pandas as pd\n",
    "import csv\n",
    "\n",
    "# Send a request to the website and get its content\n",
    "url = 'https://startup.google.com/programs/black-founders-fund/united-states/'\n",
    "response = requests.get(url)\n",
    "html = response.content\n",
    "\n",
    "# Parse the HTML content using BeautifulSoup\n",
    "soup = BeautifulSoup(html, 'html.parser')\n",
    "\n",
    "# Find all the boxes containing information about each recipient\n",
    "boxes = soup.find_all('div', {'class': 'card-text--content flip-card-back'})\n",
    "\n",
    "# Create an empty list to store the information\n",
    "people_info = []\n",
    "company_info = []\n",
    "# Loop through each box and extract the name and description for each recipient\n",
    "for box in boxes:\n",
    "    name = box.find('span', {'class': 'glue-eyebrow'}).text.strip()\n",
    "    info = ''\n",
    "    for p in box.find_all('p'):\n",
    "        info += p.text.strip()\n",
    "    people_info.append([name, info])\n",
    "\n",
    "# Find all boxes with company name\n",
    "boxes2 = soup.find_all('div', {'class': 'card-text--body'})\n",
    "# Loop through each box and extract the name of each company\n",
    "for box2 in boxes2:\n",
    "    company = box2.h2.text.strip()\n",
    "    company_info.append([company])\n",
    "del company_info[0]\n",
    "# Create two datasets based on the two lists and merge\n",
    "df1 = pd.DataFrame(people_info, columns=['Name', 'Info'])\n",
    "df2 = pd.DataFrame(company_info, columns = ['company'])\n",
    "merged_df = pd.merge(df1, df2, left_index=True, right_index=True, how='outer')\n",
    "\n",
    "# Export to CSV\n",
    "merged_df.to_csv('BFF.csv', index=False)"
   ]
  },
  {
   "cell_type": "code",
   "execution_count": 57,
   "metadata": {},
   "outputs": [
    {
     "data": {
      "text/html": [
       "<div>\n",
       "<style scoped>\n",
       "    .dataframe tbody tr th:only-of-type {\n",
       "        vertical-align: middle;\n",
       "    }\n",
       "\n",
       "    .dataframe tbody tr th {\n",
       "        vertical-align: top;\n",
       "    }\n",
       "\n",
       "    .dataframe thead th {\n",
       "        text-align: right;\n",
       "    }\n",
       "</style>\n",
       "<table border=\"1\" class=\"dataframe\">\n",
       "  <thead>\n",
       "    <tr style=\"text-align: right;\">\n",
       "      <th></th>\n",
       "      <th>Name</th>\n",
       "      <th>Info</th>\n",
       "      <th>company</th>\n",
       "    </tr>\n",
       "  </thead>\n",
       "  <tbody>\n",
       "    <tr>\n",
       "      <th>0</th>\n",
       "      <td>Mita Carriman</td>\n",
       "      <td>Mita Carriman is the founder of Adventurely. O...</td>\n",
       "      <td>Adventurely</td>\n",
       "    </tr>\n",
       "    <tr>\n",
       "      <th>1</th>\n",
       "      <td>Erin Rowe</td>\n",
       "      <td>Erin Rowe (she, her) is the founder and CEO of...</td>\n",
       "      <td>Allspring</td>\n",
       "    </tr>\n",
       "    <tr>\n",
       "      <th>2</th>\n",
       "      <td>Ashton Keys</td>\n",
       "      <td>Ashton Keys is a Detroit native and an experie...</td>\n",
       "      <td>Athlytic</td>\n",
       "    </tr>\n",
       "    <tr>\n",
       "      <th>3</th>\n",
       "      <td>Robert Hatcher</td>\n",
       "      <td>Robert Hatcher is the CEO and co-founder of Au...</td>\n",
       "      <td>Aurign Inc</td>\n",
       "    </tr>\n",
       "    <tr>\n",
       "      <th>4</th>\n",
       "      <td>Chudi Iregbulem</td>\n",
       "      <td>Chudi Iregbulem is the founder and CEO of Beat...</td>\n",
       "      <td>Beatmatch</td>\n",
       "    </tr>\n",
       "    <tr>\n",
       "      <th>...</th>\n",
       "      <td>...</td>\n",
       "      <td>...</td>\n",
       "      <td>...</td>\n",
       "    </tr>\n",
       "    <tr>\n",
       "      <th>171</th>\n",
       "      <td>Jonathan Rabb</td>\n",
       "      <td>Jonathan Rabb is an expert on the mechanics of...</td>\n",
       "      <td>Watch The Yard</td>\n",
       "    </tr>\n",
       "    <tr>\n",
       "      <th>172</th>\n",
       "      <td>Darren Buckner</td>\n",
       "      <td>Darren Buckner is a remote work advocate and t...</td>\n",
       "      <td>Workfrom</td>\n",
       "    </tr>\n",
       "    <tr>\n",
       "      <th>173</th>\n",
       "      <td>James Barnett</td>\n",
       "      <td>James Barnett saw an opportunity to innovate a...</td>\n",
       "      <td>Wrinkle Free Delivery</td>\n",
       "    </tr>\n",
       "    <tr>\n",
       "      <th>174</th>\n",
       "      <td>Collin Wallace</td>\n",
       "      <td>Collin Wallace is a serial entrepreneur in the...</td>\n",
       "      <td>ZeroStorefront</td>\n",
       "    </tr>\n",
       "    <tr>\n",
       "      <th>175</th>\n",
       "      <td>Dennis Cail</td>\n",
       "      <td>Growing up humble in Louisiana, Dennis Cail li...</td>\n",
       "      <td>Zirtue</td>\n",
       "    </tr>\n",
       "  </tbody>\n",
       "</table>\n",
       "<p>176 rows × 3 columns</p>\n",
       "</div>"
      ],
      "text/plain": [
       "                Name                                               Info  \\\n",
       "0      Mita Carriman  Mita Carriman is the founder of Adventurely. O...   \n",
       "1          Erin Rowe  Erin Rowe (she, her) is the founder and CEO of...   \n",
       "2        Ashton Keys  Ashton Keys is a Detroit native and an experie...   \n",
       "3     Robert Hatcher  Robert Hatcher is the CEO and co-founder of Au...   \n",
       "4    Chudi Iregbulem  Chudi Iregbulem is the founder and CEO of Beat...   \n",
       "..               ...                                                ...   \n",
       "171    Jonathan Rabb  Jonathan Rabb is an expert on the mechanics of...   \n",
       "172   Darren Buckner  Darren Buckner is a remote work advocate and t...   \n",
       "173    James Barnett  James Barnett saw an opportunity to innovate a...   \n",
       "174   Collin Wallace  Collin Wallace is a serial entrepreneur in the...   \n",
       "175      Dennis Cail  Growing up humble in Louisiana, Dennis Cail li...   \n",
       "\n",
       "                   company  \n",
       "0              Adventurely  \n",
       "1                Allspring  \n",
       "2                 Athlytic  \n",
       "3               Aurign Inc  \n",
       "4                Beatmatch  \n",
       "..                     ...  \n",
       "171         Watch The Yard  \n",
       "172               Workfrom  \n",
       "173  Wrinkle Free Delivery  \n",
       "174         ZeroStorefront  \n",
       "175                 Zirtue  \n",
       "\n",
       "[176 rows x 3 columns]"
      ]
     },
     "execution_count": 57,
     "metadata": {},
     "output_type": "execute_result"
    }
   ],
   "source": [
    "merged_df"
   ]
  }
 ],
 "metadata": {
  "kernelspec": {
   "display_name": "Python 3.9.12 ('base')",
   "language": "python",
   "name": "python3"
  },
  "language_info": {
   "codemirror_mode": {
    "name": "ipython",
    "version": 3
   },
   "file_extension": ".py",
   "mimetype": "text/x-python",
   "name": "python",
   "nbconvert_exporter": "python",
   "pygments_lexer": "ipython3",
   "version": "3.9.12"
  },
  "orig_nbformat": 4,
  "vscode": {
   "interpreter": {
    "hash": "391479117d5078bf94d55461335afba286b96ba5be3f27f355e96440a4e7cc52"
   }
  }
 },
 "nbformat": 4,
 "nbformat_minor": 2
}
